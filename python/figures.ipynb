{
 "cells": [
  {
   "cell_type": "code",
   "execution_count": 1,
   "id": "e3b8fb50-7619-4eed-80c5-7178fbdfe92a",
   "metadata": {},
   "outputs": [],
   "source": [
    "# create code here\n",
    "from simu import simu_RRR"
   ]
  },
  {
   "cell_type": "code",
   "execution_count": 2,
   "id": "1a1aa3fe-7707-4497-b0a5-2f88dbdb4dc2",
   "metadata": {},
   "outputs": [],
   "source": [
    "from fitting import *"
   ]
  },
  {
   "cell_type": "code",
   "execution_count": 3,
   "id": "95cb81bb-358b-47d7-831e-9494d34c88ab",
   "metadata": {},
   "outputs": [],
   "source": [
    "import numpy as np"
   ]
  },
  {
   "cell_type": "markdown",
   "id": "c2d40a98-7501-4d98-b524-05d8d0a932e2",
   "metadata": {},
   "source": [
    "### Regularization"
   ]
  },
  {
   "cell_type": "code",
   "execution_count": 4,
   "id": "f2dbf37e-9202-4e7e-b1f7-f61b652bcfb2",
   "metadata": {},
   "outputs": [],
   "source": [
    "n_sim = 50\n",
    "nx = 50\n",
    "ny = 50\n",
    "NSamples = np.round(50 * 2 ** np.arange(1, 4.5, 0.5)).astype(int)\n",
    "Lambdas = np.array(list(range(11)) + [20, 100, 1000])\n",
    "\n",
    "def err_fun(A, B):\n",
    "    return np.mean((A - B) ** 2) / np.mean(B ** 2)\n",
    "\n",
    "U = []\n",
    "V = []\n",
    "err = np.full((n_sim, len(Lambdas), len(NSamples)), np.nan)\n",
    "\n",
    "# generate simulated data\n",
    "for isim in range(n_sim):\n",
    "    X, Y, U, V, ops = simu_RRR({\n",
    "        'rnk': 2,\n",
    "        'nx': nx,\n",
    "        'ny': ny,\n",
    "        'signse': 50,\n",
    "        'T': max(NSamples),\n",
    "        'U': U,\n",
    "        'V': V\n",
    "    })\n",
    "    w_true = U @ V.T\n",
    "    for jj, lam in enumerate(Lambdas):\n",
    "        w_hat_list = [\n",
    "            svd_RRR(X[:n_sample, :], Y[:n_sample, :], ops['rnk'], lam)[0]\n",
    "            for n_sample in NSamples\n",
    "        ]\n",
    "        err[isim, jj, :] = [err_fun(w_hat, w_true) for w_hat in w_hat_list]"
   ]
  },
  {
   "cell_type": "code",
   "execution_count": 5,
   "id": "d5b19896-fb46-4a92-a5b3-5db147366727",
   "metadata": {},
   "outputs": [
    {
     "data": {
      "text/plain": [
       "(50, 14, 7)"
      ]
     },
     "execution_count": 5,
     "metadata": {},
     "output_type": "execute_result"
    }
   ],
   "source": [
    "err.shape"
   ]
  },
  {
   "cell_type": "code",
   "execution_count": 6,
   "id": "23376757-ccfe-423c-998b-ae1fc5691101",
   "metadata": {},
   "outputs": [
    {
     "data": {
      "image/png": "[encoded data removed]",
      "text/plain": [
       "<Figure size 300x220 with 1 Axes>"
      ]
     },
     "metadata": {},
     "output_type": "display_data"
    }
   ],
   "source": [
    "import numpy as np\n",
    "import matplotlib.pyplot as plt\n",
    "\n",
    "# Identify best lambda\n",
    "tmp = np.mean(err, axis=0)  # shape: (len(Lambdas), len(NSamples))\n",
    "I = np.argmin(tmp, axis=0)  # best lambda for each sample count\n",
    "\n",
    "# Plotting\n",
    "plt.close('all')\n",
    "fig, ax = plt.subplots(figsize=(3, 2.2))  # size in inches\n",
    "ax.set_title('Estimation Error vs. # Samples')\n",
    "\n",
    "# Prepare data: err shape is (n_sim, len(Lambdas), len(NSamples))\n",
    "# Select lambda index 0 (no regularization) and I[-1] (best at max sample)\n",
    "selected_idxs = [0, I[-1]]\n",
    "err_to_plot = err[:, selected_idxs, :]  # shape: (n_sim, 2, len(NSamples))\n",
    "err_to_plot = np.transpose(err_to_plot, (0, 2, 1))  # shape: (n_sim, len(NSamples), 2)\n",
    "\n",
    "# Plot mean ± std\n",
    "labels = ['w/o reg', 'w/ reg']\n",
    "colors = ['tab:blue', 'tab:orange']\n",
    "for i in range(2):\n",
    "    mean_err = np.mean(err_to_plot[:, :, i], axis=0)\n",
    "    std_err = np.std(err_to_plot[:, :, i], axis=0)\n",
    "    ax.plot(NSamples, mean_err, label=labels[i], color=colors[i])\n",
    "    ax.fill_between(NSamples, mean_err - std_err, mean_err + std_err, color=colors[i], alpha=0.3)\n",
    "\n",
    "# Labels and legend\n",
    "ax.set_xlabel('# samples')\n",
    "ax.set_ylabel('estimation error')\n",
    "ax.legend(fontsize=9)\n",
    "ax.set_xlim(min(NSamples), max(NSamples))\n",
    "ax.tick_params(labelsize=9)\n",
    "\n",
    "# Save figure\n",
    "plt.tight_layout()\n",
    "plt.savefig('fig2a.png', dpi=300)\n",
    "plt.show()\n"
   ]
  },
  {
   "cell_type": "markdown",
   "id": "b39c84b8-ef7f-450c-b7e3-e0050d6ca45b",
   "metadata": {},
   "source": [
    "### Non-isotropic noise"
   ]
  },
  {
   "cell_type": "code",
   "execution_count": 7,
   "id": "69d1462f-150d-426a-901b-bc3fd14dd4c1",
   "metadata": {},
   "outputs": [],
   "source": [
    "# simulation parameters\n",
    "n_sim = 100\n",
    "nx = 50\n",
    "ny = 50\n",
    "Lambdas = np.array(list(range(11)) + [20, 100, 1000])\n",
    "M_sigma = np.linspace(1,500,6) # maximum variance of neurons\n",
    "\n",
    "def err_fun(A, B):\n",
    "    return np.mean((A - B) ** 2) / np.mean(B ** 2)\n",
    "\n",
    "\n",
    "err = np.full((n_sim, len(M_sigma), 2), np.nan)"
   ]
  },
  {
   "cell_type": "code",
   "execution_count": 8,
   "id": "3e21d438-328f-44ed-8cf6-29331a310bc4",
   "metadata": {},
   "outputs": [],
   "source": [
    "# generate simulated data\n",
    "for ii in range(len(M_sigma)):\n",
    "    \n",
    "    # generate groudn truth covariance\n",
    "    # Sigma = np.diag(np.logspace(0, np.log10(M_sigma[ii]), ny)) # variance on a log scale\n",
    "    # Sigma = np.diag(np.linspace(1, M_sigma[ii], ny)) # variance on a linear scale\n",
    "    Sigma = np.diag(np.concatenate([np.ones(ny - 1), [M_sigma[ii]]])) # variance all ones except the last\n",
    "    \n",
    "    for isim in range(n_sim):\n",
    "        X, Y, U, V, ops = simu_RRR({\n",
    "            'rnk': 2,\n",
    "            'nx': nx,\n",
    "            'ny': ny,\n",
    "            'signse': 50,\n",
    "            'T': 100,\n",
    "            'Sigma':Sigma})\n",
    "        w_true = U @ V.T\n",
    "        \n",
    "        w_hat_list = [svd_RRR_noniso(X,Y,ops['rnk'],Sigma)[0], \n",
    "                      svd_RRR(X,Y,ops['rnk'])[0]]\n",
    "        err[isim, ii, :] = [err_fun(w_hat, w_true) for w_hat in w_hat_list]"
   ]
  },
  {
   "cell_type": "code",
   "execution_count": 10,
   "id": "1bd42a38-b31e-49dc-abc4-275dee64df44",
   "metadata": {},
   "outputs": [
    {
     "data": {
      "image/png": "[encoded data removed]",
      "text/plain": [
       "<Figure size 300x220 with 1 Axes>"
      ]
     },
     "metadata": {},
     "output_type": "display_data"
    }
   ],
   "source": [
    "import numpy as np\n",
    "import matplotlib.pyplot as plt\n",
    "\n",
    "# Example structure\n",
    "# err.shape == (n_sim, len(M_sigma), 2)\n",
    "# M_sigma = [10, 100, 1000]  # or any list of values\n",
    "\n",
    "plt.close('all')\n",
    "fig, ax = plt.subplots(figsize=(3, 2.2))  # inches, as in MATLAB [3 2.2]*72 dpi\n",
    "\n",
    "colors = plt.get_cmap('tab10').colors  # similar to MATLAB 'lines' colormap\n",
    "\n",
    "labels = ['isotropic', 'non-iso']\n",
    "\n",
    "for ii in range(2):\n",
    "    mean_err = np.mean(err[:, :, ii], axis=0)\n",
    "    std_err = np.std(err[:, :, ii], axis=0) / np.sqrt(err.shape[0])\n",
    "    ax.plot(M_sigma, mean_err, label=labels[ii], color=colors[ii])\n",
    "    ax.fill_between(M_sigma, mean_err - std_err, mean_err + std_err, color=colors[ii], alpha=0.3)\n",
    "\n",
    "# Axis labels\n",
    "ax.set_xlabel(r'max($\\sigma^2$)', fontsize=10)\n",
    "ax.set_ylabel('estimation error', fontsize=10)\n",
    "\n",
    "# Legend\n",
    "ax.legend(fontsize=9)\n",
    "\n",
    "# Axes formatting\n",
    "ax.set_xlim(min(M_sigma), max(M_sigma))\n",
    "ax.tick_params(labelsize=9)\n",
    "\n",
    "# Layout and save\n",
    "plt.tight_layout()\n",
    "plt.savefig('fig2b.png', dpi=300)\n",
    "plt.show()\n"
   ]
  },
  {
   "cell_type": "code",
   "execution_count": null,
   "id": "d43324c6-0593-472c-a773-130db9b482e9",
   "metadata": {},
   "outputs": [],
   "source": []
  }
 ],
 "metadata": {
  "kernelspec": {
   "display_name": "Python 3 (ipykernel)",
   "language": "python",
   "name": "python3"
  },
  "language_info": {
   "codemirror_mode": {
    "name": "ipython",
    "version": 3
   },
   "file_extension": ".py",
   "mimetype": "text/x-python",
   "name": "python",
   "nbconvert_exporter": "python",
   "pygments_lexer": "ipython3",
   "version": "3.9.17"
  }
 },
 "nbformat": 4,
 "nbformat_minor": 5
}
